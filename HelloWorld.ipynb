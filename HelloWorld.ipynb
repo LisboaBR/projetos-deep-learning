{
  "nbformat": 4,
  "nbformat_minor": 0,
  "metadata": {
    "colab": {
      "provenance": [],
      "authorship_tag": "ABX9TyMAHEc0VEoE/xiwBkZiq2cN",
      "include_colab_link": true
    },
    "kernelspec": {
      "name": "python3",
      "display_name": "Python 3"
    },
    "language_info": {
      "name": "python"
    }
  },
  "cells": [
    {
      "cell_type": "markdown",
      "metadata": {
        "id": "view-in-github",
        "colab_type": "text"
      },
      "source": [
        "<a href=\"https://colab.research.google.com/github/LisboaBR/projetos-deep-learning/blob/main/HelloWorld.ipynb\" target=\"_parent\"><img src=\"https://colab.research.google.com/assets/colab-badge.svg\" alt=\"Open In Colab\"/></a>"
      ]
    },
    {
      "cell_type": "markdown",
      "source": [
        "Projeto 1"
      ],
      "metadata": {
        "id": "vOAw0l9hT-IB"
      }
    },
    {
      "cell_type": "code",
      "execution_count": null,
      "metadata": {
        "colab": {
          "base_uri": "https://localhost:8080/"
        },
        "id": "slZsrCA6T9Z0",
        "outputId": "b12bc7e1-c609-4c3e-c113-cbccb7201ba3"
      },
      "outputs": [
        {
          "output_type": "stream",
          "name": "stdout",
          "text": [
            "Ola mundo\n"
          ]
        }
      ],
      "source": [
        "print('Ola mundo')"
      ]
    },
    {
      "cell_type": "markdown",
      "source": [
        "Alteração 2"
      ],
      "metadata": {
        "id": "7kECkgFdUvp1"
      }
    },
    {
      "cell_type": "code",
      "source": [
        "print('Linha 2')"
      ],
      "metadata": {
        "colab": {
          "base_uri": "https://localhost:8080/"
        },
        "id": "-0AtuyTdUtmA",
        "outputId": "711e3233-153b-4fcf-9ae6-464b6e53b929"
      },
      "execution_count": 1,
      "outputs": [
        {
          "output_type": "stream",
          "name": "stdout",
          "text": [
            "Linha 2\n"
          ]
        }
      ]
    }
  ]
}